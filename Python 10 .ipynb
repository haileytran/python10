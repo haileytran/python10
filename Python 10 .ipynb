{
 "cells": [
  {
   "cell_type": "markdown",
   "metadata": {},
   "source": [
    "# <font size=\"15\"> Python #10 </font>\n",
    "## Table of Contents:\n",
    "1. [Function Combinations](#section1)  \n",
    "    1.1 [Print Statement](#section1.1)     \n",
    "    1.2 [If/Else](#section1.2)  \n",
    "    1.3 [Using a Function in another Function](#section1.3) \n",
    "2. [Boolean Operations](#section2)  \n",
    "    1.2 [Or](#section2.1)  \n",
    "    1.3 [And](#section2.2) \n",
    "\n",
    "\n",
    "## Contact:\n",
    "Email: [Hailey Tran](mailto:hailey.tran@berkeley.edu) \n",
    "\n",
    "\n",
    "\n",
    "After today you will know how to:\n",
    "1. Use print statements in functions \n",
    "2. Combining an if/else statment into a function \n",
    "3. Use a function in another function \n",
    "4. Use and/or boolean operations "
   ]
  },
  {
   "cell_type": "markdown",
   "metadata": {},
   "source": [
    "<a id='section1'></a>\n",
    "# Part 1: Function Combinations \n",
    "Recall the structure of a define statement to make a function: "
   ]
  },
  {
   "cell_type": "code",
   "execution_count": null,
   "metadata": {},
   "outputs": [],
   "source": [
    "# This code is only a skeleton. It will error if you run it.\n",
    "\n",
    "def <function name>(<parameters>):\n",
    "    block of code\n",
    "    return <statement>"
   ]
  },
  {
   "cell_type": "markdown",
   "metadata": {},
   "source": [
    "**Exercise 1.0.1** Write a function that adds 10 to any number argument given."
   ]
  },
  {
   "cell_type": "code",
   "execution_count": null,
   "metadata": {},
   "outputs": [],
   "source": []
  },
  {
   "cell_type": "markdown",
   "metadata": {},
   "source": [
    "<a id='section1.1'></a>\n",
    "### 1.1 Print Statment"
   ]
  },
  {
   "cell_type": "markdown",
   "metadata": {},
   "source": [
    "Using a `print` statement in your function allows you to make a certain phrase visible. Adding this statement has no  affect on the end result of the output.\n",
    "\n",
    "So what is the difference between `print` and `return` in a function? `Return` does not visualize the output. It simply tells us what the certain function is supposed to give back. "
   ]
  },
  {
   "cell_type": "markdown",
   "metadata": {},
   "source": [
    "**Example 1.1.1** This function takes in any number and subtracts 2 from it. Notice how \"outcome\" is printed out. "
   ]
  },
  {
   "cell_type": "code",
   "execution_count": null,
   "metadata": {},
   "outputs": [],
   "source": [
    "#RUn this cell\n",
    "def subtract_2(n):\n",
    "    print(\"outcome\")\n",
    "    return n-2\n",
    "\n",
    "subtract_2(10)"
   ]
  },
  {
   "cell_type": "markdown",
   "metadata": {},
   "source": [
    "**Exercise 1.1.1** Write a function that returns the answer of the two given arguments divided by each other. Also, print out \"quotient\" to describe what your answer is."
   ]
  },
  {
   "cell_type": "code",
   "execution_count": null,
   "metadata": {},
   "outputs": [],
   "source": []
  },
  {
   "cell_type": "markdown",
   "metadata": {},
   "source": [
    "<a id='section1.2'></a>\n",
    "### 1.2 If/else\n",
    "\n",
    "We have learned how to implement an if/else statement, and how to implement our own function. Next, we will learn how to combine them together."
   ]
  },
  {
   "cell_type": "markdown",
   "metadata": {},
   "source": [
    "**Example 1.2.1** Here is an example that adds 10 to the input number if the input number is 100 or above:"
   ]
  },
  {
   "cell_type": "code",
   "execution_count": 5,
   "metadata": {},
   "outputs": [],
   "source": [
    "#Run this cell \n",
    "def ten_more(n):\n",
    "    if n >= 100:\n",
    "        n = n + 10\n",
    "        return n\n",
    "    \n",
    "ten_more(120)"
   ]
  },
  {
   "cell_type": "markdown",
   "metadata": {},
   "source": [
    "**Exercise 1.2.1** Suppose you have a system at your house that when the trash in the trash can goes over 50, you empty it and the trash count goes back to zero. Write a function that makes the trash count equal to 0 if it is over 50. If it is not over 50, print \"Trash not full yet.\""
   ]
  },
  {
   "cell_type": "code",
   "execution_count": null,
   "metadata": {},
   "outputs": [],
   "source": []
  },
  {
   "cell_type": "markdown",
   "metadata": {},
   "source": [
    "<a id='section1.3'></a>\n",
    "### 1.3 Using a Function in another Function\n",
    "\n",
    "Many times you will need to use a previously defined function in another function that you make."
   ]
  },
  {
   "cell_type": "markdown",
   "metadata": {},
   "source": [
    "**Example 1.3.1** Here is an example that computes the amount of money you make from work, plus the added bonus for working hard:"
   ]
  },
  {
   "cell_type": "code",
   "execution_count": null,
   "metadata": {},
   "outputs": [],
   "source": [
    "#Run this cell \n",
    "def wage(hours):\n",
    "    return hours *25\n",
    "def with_bonus(hours):\n",
    "    return wage(hours) + 50\n",
    "\n",
    "with_bonus(21)"
   ]
  },
  {
   "cell_type": "markdown",
   "metadata": {},
   "source": [
    "Notice how the first function is needed to output the answer of the second one! You have just used a function within a function."
   ]
  },
  {
   "cell_type": "markdown",
   "metadata": {},
   "source": [
    "**Exercise 1.3.1** Suppose your dad will give you 10 dollars for every book that you read. He then says that if you get over 100 dollars, he will add 20 dollars to your total. Create a function to show this system."
   ]
  },
  {
   "cell_type": "code",
   "execution_count": null,
   "metadata": {},
   "outputs": [],
   "source": []
  },
  {
   "cell_type": "markdown",
   "metadata": {},
   "source": [
    "<a id='section1'></a>\n",
    "# Part 2: Boolean Operations \n",
    "Python has two Boolean operators that are typed out as plain English words:\n",
    "- or\n",
    "- and\n",
    "\n",
    "These operators connect Boolean expressions to create compound Boolean expressions."
   ]
  },
  {
   "cell_type": "markdown",
   "metadata": {},
   "source": [
    "<a id='section2.1'></a>\n",
    "### 2.1 Or\n",
    "\n",
    "Consider the statement: conditional1 `or` conditional2\n",
    "\n",
    "If at least one of the conditionals evaluates to True, then the expression is considered to be True. If both subexpressions evaluate to False, then the expression is False. "
   ]
  },
  {
   "cell_type": "code",
   "execution_count": null,
   "metadata": {},
   "outputs": [],
   "source": [
    "#Example1\n",
    "2==2 or 2==3"
   ]
  },
  {
   "cell_type": "code",
   "execution_count": null,
   "metadata": {},
   "outputs": [],
   "source": [
    "#Example2 \n",
    "2>4 or 1>8"
   ]
  },
  {
   "cell_type": "markdown",
   "metadata": {},
   "source": [
    "**Exercise 2.1.1** Write an expression that will evaluate to True using the `or` operation "
   ]
  },
  {
   "cell_type": "code",
   "execution_count": null,
   "metadata": {},
   "outputs": [],
   "source": []
  },
  {
   "cell_type": "markdown",
   "metadata": {},
   "source": [
    "**Exercise 2.1.2** Write an expression that will evaluate to False using the `or` operation "
   ]
  },
  {
   "cell_type": "code",
   "execution_count": null,
   "metadata": {},
   "outputs": [],
   "source": []
  },
  {
   "cell_type": "markdown",
   "metadata": {},
   "source": [
    "<a id='section2.2'></a>\n",
    "### 2.2 And\n",
    "\n",
    "Consider the statement: conditional1 `or` conditional2\n",
    "\n",
    "Both conditionals must evaluates to True for the expression to be True."
   ]
  },
  {
   "cell_type": "code",
   "execution_count": null,
   "metadata": {},
   "outputs": [],
   "source": [
    "#Example1\n",
    "5>4 and 7>1"
   ]
  },
  {
   "cell_type": "code",
   "execution_count": null,
   "metadata": {},
   "outputs": [],
   "source": [
    "#Example2\n",
    "4==2 and 5==3"
   ]
  },
  {
   "cell_type": "markdown",
   "metadata": {},
   "source": [
    "**Exercise 2.2.1** Write an expression that will evaluate to True using the `and` operation "
   ]
  },
  {
   "cell_type": "code",
   "execution_count": null,
   "metadata": {},
   "outputs": [],
   "source": []
  },
  {
   "cell_type": "markdown",
   "metadata": {},
   "source": [
    "**Exercise 2.2.2** Write an expression that will evaluate to False using the `or` operation "
   ]
  },
  {
   "cell_type": "code",
   "execution_count": null,
   "metadata": {},
   "outputs": [],
   "source": []
  }
 ],
 "metadata": {
  "kernelspec": {
   "display_name": "Python 3",
   "language": "python",
   "name": "python3"
  },
  "language_info": {
   "codemirror_mode": {
    "name": "ipython",
    "version": 3
   },
   "file_extension": ".py",
   "mimetype": "text/x-python",
   "name": "python",
   "nbconvert_exporter": "python",
   "pygments_lexer": "ipython3",
   "version": "3.6.11"
  }
 },
 "nbformat": 4,
 "nbformat_minor": 4
}
